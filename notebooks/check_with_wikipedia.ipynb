{
 "cells": [
  {
   "cell_type": "code",
   "execution_count": 1,
   "metadata": {},
   "outputs": [],
   "source": [
    "from sys import path\n",
    "path.append('../')\n",
    "from fact_checker.fact_checker import FactChecker"
   ]
  },
  {
   "cell_type": "code",
   "execution_count": 2,
   "metadata": {},
   "outputs": [],
   "source": [
    "fc = FactChecker()"
   ]
  },
  {
   "cell_type": "code",
   "execution_count": 6,
   "metadata": {},
   "outputs": [
    {
     "name": "stdout",
     "output_type": "stream",
     "text": [
      "\n",
      "\n",
      "\u001b[1m> Entering new AgentExecutor chain...\u001b[0m\n",
      "\u001b[32;1m\u001b[1;3m\n",
      "Invoking: `QueryAnalyser` with `周琦为什么离开快船队`\n",
      "\n",
      "\n",
      "\u001b[0m\u001b[36;1m\u001b[1;3mQuery type: Why-query\n",
      "Statements: 周琦离开快船队\u001b[0m\u001b[32;1m\u001b[1;3m\n",
      "Invoking: `wikipedia` with `周琦`\n",
      "\n",
      "\n",
      "\u001b[0m\u001b[38;5;200m\u001b[1;3mPage: Zhou Qi\n",
      "Summary: Zhou Qi (Chinese: 周琦; pinyin: Zhōu Qí [ʈʂóʊ tɕʰǐ]; born 16 January 1996) is a Chinese professional basketball player for the Guangdong Southern Tigers of the Chinese Basketball Association (CBA). He has been a regular member of the China men's national basketball team since 2014, winning a gold team medal in the 2015 FIBA Asia Championship and the 2018 Asian Games.\n",
      "A center, Zhou started his professional career playing for the Xinjiang Flying Tigers of the Chinese Basketball Association (CBA). In 2016, he entered the NBA draft and was selected 43rd overall by the Houston Rockets of the National Basketball Association (NBA). He played a total of 19 games across two seasons with the Rockets before being waived in 2018. Zhou returned to the Flying Tigers of the CBA soon after. In 2021, he joined the South East Melbourne Phoenix in the Australian National Basketball League (NBL).\n",
      "\n",
      "Page: Kipling (brand)\n",
      "Summary: Kipling is a brand selling handbags, backpacks, totes, luggage and other accessories. It was founded in 1987 in Antwerp, Belgium. Kipling has been a part of VF Corporation since 2004. Today, Kipling has 250 employees across its corporate offices in Antwerp, New Jersey, São Paulo, and Hong Kong. Kipling bags are sold in more than 80 countries internationally and can be found in more than 7,500 stores.\n",
      "\n",
      "Page: Wang Zhelin\n",
      "Summary: Wang Zhelin (Chinese: 王哲林, pronounced [wǎŋ ʈʂɤ̌lǐn]; born January 20, 1994) is a Chinese basketball player for the Shanghai Sharks in the Chinese Basketball Association. He was drafted in Round 2 (Number 57 overall) in the 2016 NBA draft by the Memphis Grizzlies.\u001b[0m\u001b[32;1m\u001b[1;3m\n",
      "Invoking: `wikipedia` with `快船队`\n",
      "\n",
      "\n",
      "\u001b[0m\u001b[38;5;200m\u001b[1;3mPage: HNA Technology\n",
      "Summary: HNA Technology Co., Ltd. formerly known as Tianjin Tianhai Investment Co., Ltd. is a Chinese holding company which specialized in marine transportation services. However, in recent year it was most known as the investment vehicle of HNA Group to acquire American company Ingram Micro. The shares of Tianhai Investment, A share and B share (Chinese stock terminology) were both listed in the Shanghai Stock Exchange.\u001b[0m\u001b[32;1m\u001b[1;3m\n",
      "Invoking: `EntialmentRecognitionTool` with `周琦离开快船队,Zhou Qi`\n",
      "\n",
      "\n",
      "\u001b[0m\u001b[33;1m\u001b[1;3mUNCERTAIN\u001b[0m\u001b[32;1m\u001b[1;3mUNCERTAIN, 由于未找到关于周琦离开快船队的相关信息，因此无法确定周琦离开快船队的原因。\u001b[0m\n",
      "\n",
      "\u001b[1m> Finished chain.\u001b[0m\n"
     ]
    },
    {
     "data": {
      "text/plain": [
       "{'input': 'Fact-check this query with tools:[周琦为什么离开快船队]',\n",
       " 'output': 'UNCERTAIN, 由于未找到关于周琦离开快船队的相关信息，因此无法确定周琦离开快船队的原因。'}"
      ]
     },
     "execution_count": 6,
     "metadata": {},
     "output_type": "execute_result"
    }
   ],
   "source": [
    "fc.check('周琦为什么离开快船队')"
   ]
  },
  {
   "cell_type": "code",
   "execution_count": null,
   "metadata": {},
   "outputs": [],
   "source": []
  }
 ],
 "metadata": {
  "kernelspec": {
   "display_name": "Python 3",
   "language": "python",
   "name": "python3"
  },
  "language_info": {
   "codemirror_mode": {
    "name": "ipython",
    "version": 3
   },
   "file_extension": ".py",
   "mimetype": "text/x-python",
   "name": "python",
   "nbconvert_exporter": "python",
   "pygments_lexer": "ipython3",
   "version": "3.11.8"
  },
  "orig_nbformat": 4
 },
 "nbformat": 4,
 "nbformat_minor": 2
}
