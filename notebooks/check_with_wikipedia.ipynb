{
 "cells": [
  {
   "cell_type": "code",
   "execution_count": 1,
   "metadata": {},
   "outputs": [],
   "source": [
    "from sys import path\n",
    "path.append('../')\n",
    "from fact_checker.fact_checker import FactChecker"
   ]
  },
  {
   "cell_type": "code",
   "execution_count": 2,
   "metadata": {},
   "outputs": [],
   "source": [
    "fc = FactChecker(openai_api_key=\"your-openai-token\")"
   ]
  },
  {
   "cell_type": "code",
   "execution_count": 4,
   "metadata": {},
   "outputs": [
    {
     "name": "stdout",
     "output_type": "stream",
     "text": [
      "\n",
      "\n",
      "\u001b[1m> Entering new AgentExecutor chain...\u001b[0m\n",
      "\u001b[32;1m\u001b[1;3m\n",
      "Invoking: `QueryAnalyser` with `威少退役了`\n",
      "\n",
      "\n",
      "\u001b[0m\u001b[36;1m\u001b[1;3mQuery type: Normal query\n",
      "Statements: 威少退役了。\u001b[0m\u001b[32;1m\u001b[1;3m\n",
      "Invoking: `wikipedia` with `Russell Westbrook`\n",
      "\n",
      "\n",
      "\u001b[0m\u001b[38;5;200m\u001b[1;3mPage: Russell Westbrook\n",
      "Summary: Russell Westbrook III (born November 12, 1988) is an American professional basketball player for the Los Angeles Clippers of the National Basketball Association (NBA). A point guard, Westbrook made his NBA debut in 2008 and became a star as a member of the Oklahoma City Thunder. He has played for five NBA teams.\n",
      "Westbrook played college basketball for the UCLA Bruins and earned third-team all-conference honors in the Pac-10. He was selected with the fourth overall pick in the 2008 NBA draft by the Seattle SuperSonics, who then relocated to Oklahoma City that same week. Westbrook played for the Thunder for 11 seasons. He appeared in the NBA Finals as a member of the Thunder in 2012, losing to the Miami Heat. In 2019, Westbrook was traded to the Houston Rockets, playing one season for the organization before being traded again to the Washington Wizards in 2020. After a season in Washington, he was traded to the Los Angeles Lakers in 2021. Following two relatively disappointing seasons with the Lakers, Westbrook was traded to the Utah Jazz in 2023 and was bought out of his contract, joining the Los Angeles Clippers later in the 2022–23 season. \n",
      "A member of the NBA 75th Anniversary Team, Westbrook is a nine-time NBA All-Star and earned the NBA Most Valuable Player Award (MVP) for the 2016–17 season. He is also a nine-time All-NBA Team member; a two-time NBA scoring leader, having led the league in 2014–15 and 2016–17; a three-time NBA assists leader; and a back-to-back NBA All-Star Game MVP. Westbrook is one of two players in NBA history to average a triple-double for a season. He has achieved that feat four times and is the all-time NBA leader in career triple-doubles. Westbrook is known for his ability to score near the basket, his rebounding, his durability, and his intensity as a competitor.\n",
      "Westbrook has represented the United States national team twice, winning gold medals in the 2010 FIBA World Championship and the 2012 Olympics. \n",
      "\n",
      "\n",
      "\n",
      "Page: List of NBA career triple-double leaders\n",
      "Summary: This article provides three lists:\n",
      "\n",
      "A list of National Basketball Association players by total career regular season triple-doubles recorded.\n",
      "A progressive list of regular season triple-double leaders showing how the record increased through the years.\n",
      "A list of facts of triple-double achievements.\n",
      "\n",
      "\n",
      "\n",
      "Page: Oklahoma City Thunder\n",
      "Summary: The Oklahoma City Thunder are an American professional basketball team based in Oklahoma City. The Thunder compete in the National Basketball Association (NBA) as a member of the Northwest Division of the Western Conference. The team plays its home games at Paycom Center.The Thunder's NBA G League affiliate is the Oklahoma City Blue, which it owns. The Thunder are the only team in the major professional North American sports leagues based in the state of Oklahoma. Oklahoma City previously hosted the New Orleans Hornets for two seasons following devastation caused by Hurricane Katrina in New Orleans.The team was originally established as the Seattle SuperSonics, an expansion team that joined the NBA for the 1967–68 season. The SuperSonics relocated from Seattle to Oklahoma City on July 3, 2008 after a settlement was reached between the ownership group led by Clay Bennett and lawmakers in Seattle following a lawsuit. In Seattle, the SuperSonics qualified for the NBA playoffs 22 times, won their division six times, advanced to three NBA Finals, and won the 1979 NBA Championship.\n",
      "In Oklahoma City, the Thunder qualified for their first playoff berth during the 2009–10 season. They won their first division title as the Thunder in the 2010–11 season and their first Western Conference championship as the Thunder in the 2011–12 season, appearing in the NBA Finals for the fourth time in franchise history and first time since 1996, when the team was based in Seattle. The team has yet to win a championship since moving to Oklahoma City.\u001b[0m\u001b[32;1m\u001b[1;3m\n",
      "Invoking: `EntialmentRecognitionTool` with `威少退役了, Russell Westbrook is currently playing for the Los Angeles Clippers.`\n",
      "\n",
      "\n",
      "\u001b[0m\u001b[33;1m\u001b[1;3mCONTRADICTION\u001b[0m\u001b[32;1m\u001b[1;3mCONTRADICTION, 威少（Russell Westbrook）目前正在为洛杉矶快船队效力，因此威少并未退役。\u001b[0m\n",
      "\n",
      "\u001b[1m> Finished chain.\u001b[0m\n"
     ]
    },
    {
     "data": {
      "text/plain": [
       "{'input': 'Fact-check this query with tools:[威少退役了]',\n",
       " 'output': 'CONTRADICTION, 威少（Russell Westbrook）目前正在为洛杉矶快船队效力，因此威少并未退役。'}"
      ]
     },
     "execution_count": 4,
     "metadata": {},
     "output_type": "execute_result"
    }
   ],
   "source": [
    "fc.check('威少退役了')"
   ]
  },
  {
   "cell_type": "code",
   "execution_count": null,
   "metadata": {},
   "outputs": [],
   "source": []
  }
 ],
 "metadata": {
  "kernelspec": {
   "display_name": "Python 3",
   "language": "python",
   "name": "python3"
  },
  "language_info": {
   "codemirror_mode": {
    "name": "ipython",
    "version": 3
   },
   "file_extension": ".py",
   "mimetype": "text/x-python",
   "name": "python",
   "nbconvert_exporter": "python",
   "pygments_lexer": "ipython3",
   "version": "3.11.8"
  },
  "orig_nbformat": 4
 },
 "nbformat": 4,
 "nbformat_minor": 2
}
